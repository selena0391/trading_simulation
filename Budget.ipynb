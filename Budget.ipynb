{
 "cells": [
  {
   "cell_type": "code",
   "execution_count": 22,
   "metadata": {},
   "outputs": [
    {
     "name": "stdout",
     "output_type": "stream",
     "text": [
      " * Serving Flask app '__main__'\n",
      " * Debug mode: on\n"
     ]
    },
    {
     "name": "stderr",
     "output_type": "stream",
     "text": [
      "\u001b[31m\u001b[1mWARNING: This is a development server. Do not use it in a production deployment. Use a production WSGI server instead.\u001b[0m\n",
      " * Running on http://127.0.0.1:5000\n",
      "\u001b[33mPress CTRL+C to quit\u001b[0m\n",
      " * Restarting with stat\n",
      "/Users/michaelcortez79/Library/Python/3.10/lib/python/site-packages/traitlets/traitlets.py:2412: FutureWarning: Supporting extra quotes around strings is deprecated in traitlets 5.0. You can use 'hmac-sha256' instead of '\"hmac-sha256\"' if you require traitlets >=5.\n",
      "  warn(\n",
      "/Users/michaelcortez79/Library/Python/3.10/lib/python/site-packages/traitlets/traitlets.py:2366: FutureWarning: Supporting extra quotes around Bytes is deprecated in traitlets 5.0. Use '95f31d64-30a8-444e-bb88-ffcd9b14dda7' instead of 'b\"95f31d64-30a8-444e-bb88-ffcd9b14dda7\"'.\n",
      "  warn(\n",
      "Traceback (most recent call last):\n",
      "  File \"/Library/Frameworks/Python.framework/Versions/3.10/lib/python3.10/runpy.py\", line 196, in _run_module_as_main\n",
      "    return _run_code(code, main_globals, None,\n",
      "  File \"/Library/Frameworks/Python.framework/Versions/3.10/lib/python3.10/runpy.py\", line 86, in _run_code\n",
      "    exec(code, run_globals)\n",
      "  File \"/Users/michaelcortez79/Library/Python/3.10/lib/python/site-packages/ipykernel_launcher.py\", line 17, in <module>\n",
      "    app.launch_new_instance()\n",
      "  File \"/Users/michaelcortez79/Library/Python/3.10/lib/python/site-packages/traitlets/config/application.py\", line 977, in launch_instance\n",
      "    app.initialize(argv)\n",
      "  File \"/Users/michaelcortez79/Library/Python/3.10/lib/python/site-packages/traitlets/config/application.py\", line 110, in inner\n",
      "    return method(app, *args, **kwargs)\n",
      "  File \"/Users/michaelcortez79/Library/Python/3.10/lib/python/site-packages/ipykernel/kernelapp.py\", line 666, in initialize\n",
      "    self.init_sockets()\n",
      "  File \"/Users/michaelcortez79/Library/Python/3.10/lib/python/site-packages/ipykernel/kernelapp.py\", line 307, in init_sockets\n",
      "    self.shell_port = self._bind_socket(self.shell_socket, self.shell_port)\n",
      "  File \"/Users/michaelcortez79/Library/Python/3.10/lib/python/site-packages/ipykernel/kernelapp.py\", line 244, in _bind_socket\n",
      "    return self._try_bind_socket(s, port)\n",
      "  File \"/Users/michaelcortez79/Library/Python/3.10/lib/python/site-packages/ipykernel/kernelapp.py\", line 220, in _try_bind_socket\n",
      "    s.bind(\"tcp://%s:%i\" % (self.ip, port))\n",
      "  File \"/Users/michaelcortez79/Library/Python/3.10/lib/python/site-packages/zmq/sugar/socket.py\", line 230, in bind\n",
      "    super().bind(addr)\n",
      "  File \"zmq/backend/cython/socket.pyx\", line 562, in zmq.backend.cython.socket.Socket.bind\n",
      "  File \"zmq/backend/cython/checkrc.pxd\", line 28, in zmq.backend.cython.checkrc._check_rc\n",
      "zmq.error.ZMQError: Address already in use\n"
     ]
    },
    {
     "ename": "SystemExit",
     "evalue": "1",
     "output_type": "error",
     "traceback": [
      "An exception has occurred, use %tb to see the full traceback.\n",
      "\u001b[0;31mSystemExit\u001b[0m\u001b[0;31m:\u001b[0m 1\n"
     ]
    }
   ],
   "source": [
    "from flask import Flask, render_template, request\n",
    "import matplotlib.pyplot as plt\n",
    "import io\n",
    "import base64\n",
    "\n",
    "app = Flask(__name__)\n",
    "\n",
    "@app.route('/')\n",
    "def home():\n",
    "    return render_template('index.html')\n",
    "\n",
    "@app.route('/calculate', methods = ['POST'])\n",
    "def calculate():\n",
    "\n",
    "    # Input income\n",
    "\n",
    "    income = float(request.form['income'])\n",
    "\n",
    "    # Input expenses\n",
    "\n",
    "    gas = float(request.form['gas'])\n",
    "    groceries = float(request.form['groceries'])\n",
    "    rent_mortgage = float(request.form['rent_mortgage'])\n",
    "    utilities = float(request.form['utilities'])\n",
    "    miscellaneous = float(request.form['miscellaneous'])\n",
    "\n",
    "    # Calculate total expenses\n",
    "\n",
    "    total_expenses = gas + groceries + rent_mortgage + utilities + miscellaneous\n",
    "\n",
    "    # Calculate available funds for investment\n",
    "\n",
    "    available_funds = income - total_expenses\n",
    "\n",
    "    # Define investment percentage\n",
    "\n",
    "    investment_percentage = 0.2\n",
    "\n",
    "    # Calculate investment amount\n",
    "\n",
    "    investment_amount = available_funds * investment_percentage\n",
    "\n",
    "    # Generate the histogram\n",
    "\n",
    "    labels = ['Expenses', 'Available Funds', 'Investment Amount']\n",
    "    amounts = [total_expenses, available_funds, investment_amount]\n",
    "    colors = ['red', 'green', 'blue']\n",
    "\n",
    "    plt.bar(labels, amounts, color = colors)\n",
    "    plt.xlabel('Categories')\n",
    "    plt.ylabel('Amount')\n",
    "    plt.title('Expense Breakdown')\n",
    "\n",
    "    # Convert the plot to base64 for embedding in HTML\n",
    "\n",
    "    buffer = io.BytesIO()\n",
    "    plt.savefig(buffer, format = 'png')\n",
    "    buffer.seek(0)\n",
    "    image_base64 = base64.b64encode(buffer.read()).decode('utf-8')\n",
    "    buffer.close()\n",
    "\n",
    "    return render_template('result.html', investment_amount = investment_amount, image_base64 = image_base64)\n",
    "\n",
    "if __name__ == '__main__':\n",
    "    app.run(debug = True)\n"
   ]
  },
  {
   "cell_type": "code",
   "execution_count": null,
   "metadata": {},
   "outputs": [],
   "source": [
    "<!DOCTYPE html>\n",
    "<html>\n",
    "<head>\n",
    "    <title>Budgeting Program</title>\n",
    "</head>\n",
    "<body>\n",
    "    <h1>Budgeting Program</h1>\n",
    "    <form action=\"/calculate\" method=\"POST\">\n",
    "        <label for=\"income\">Income:</label>\n",
    "        <input type=\"text\" name=\"income\" id=\"income\"><br><br>\n",
    "        \n",
    "        <label for=\"gas\">Gas Expense:</label>\n",
    "        <input type=\"text\" name=\"gas\" id=\"gas\"><br>\n",
    "        \n",
    "        <label for=\"groceries\">Groceries Expense:</label>\n",
    "        <input type=\"text\" name=\"groceries\" id=\"groceries\"><br>\n",
    "        \n",
    "        <label for=\"rent_mortgage\">Rent or Mortgage Expense:</label>\n",
    "        <input type=\"text\" name=\"rent_mortgage\" id=\"rent_mortgage\"><br>\n",
    "        \n",
    "        <label for=\"utilities\">Utilities Expense:</label>\n",
    "        <input type=\"text\" name=\"utilities\" id=\"utilities\"><br>\n",
    "        \n",
    "        <label for=\"miscellaneous\">Miscellaneous Expense:</label>\n",
    "        <input type=\"text\" name=\"miscellaneous\" id=\"miscellaneous\"><br>\n",
    "        \n",
    "        <input type=\"submit\" value=\"Calculate\">\n",
    "    </form>\n",
    "</body>\n",
    "</html>\n"
   ]
  }
 ],
 "metadata": {
  "kernelspec": {
   "display_name": "Python 3.10.7 64-bit",
   "language": "python",
   "name": "python3"
  },
  "language_info": {
   "codemirror_mode": {
    "name": "ipython",
    "version": 3
   },
   "file_extension": ".py",
   "mimetype": "text/x-python",
   "name": "python",
   "nbconvert_exporter": "python",
   "pygments_lexer": "ipython3",
   "version": "3.10.7"
  },
  "orig_nbformat": 4,
  "vscode": {
   "interpreter": {
    "hash": "aee8b7b246df8f9039afb4144a1f6fd8d2ca17a180786b69acc140d282b71a49"
   }
  }
 },
 "nbformat": 4,
 "nbformat_minor": 2
}
